{
 "cells": [
  {
   "cell_type": "markdown",
   "metadata": {},
   "source": [
    "# Linear Regression\n",
    "\n",
    "Linear regression is a supervised learning method to model de relationship between a dependent variable and one or more independent variables.\n",
    "Consider the general relationship between independent variables X, dependent variables Y, and some unknown parameters $\\theta$:\n",
    "\n",
    "$Y = f(X, \\theta)$,\n",
    "\n",
    "where the regression function $f(\\cdot)$ is typically prescribed and the parameters $\\theta$ are found by optimizing this function to match the data.\n",
    "That is, the objective is to adjust the parameters $\\theta$ in order to make $f(X, \\theta)$ as close as possible to $Y$.\n",
    "\n",
    "## Least Squares Fitting\n",
    "\n",
    "The idea is to use a simple function to describe a trend by minimizing the the sum-square error between the selected function $f(\\cdot)$ and its fit to the data.\n",
    "Classical curve fitting is formulated as a simple solution of $y = X\\theta$.\n",
    "\n",
    "Consider a data set comprising $N$ data points:\n",
    "\n",
    "$\\lbrace y_i, x_{i1}, x_{i2}, \\dots, x_{ip} \\rbrace_{i=1}^N$,\n",
    "\n",
    "where $y_i$ is the $i$-th sample of the dependent variable (also known as target variable), $x_{ij}$ is the $i$-th sample of the $j$-th component of the independent variable (also known as feature sample), and $p$ is the number of parameters.\n",
    "\n",
    "Assume now that a linear relationship between the dependent variable, $y$, and the features, $x$, modeled as\n",
    "\n",
    "$y_i = \\theta_0 + \\theta_1 x_{i1} + \\dots +  \\theta_p x_{ip} + \\eta_i$, (1)\n",
    "\n",
    "where $\\theta_i$ is the $i$-th model parameter, and $\\eta_i$ is the $i$-th disturbance sample.\n",
    "\n",
    "Using matrix notation, (1) may be rewritten as:\n",
    "\n",
    "$y = X\\theta + \\eta$,\n",
    "\n",
    "where $y = [ y_1, y_2, \\dots, y_n ]^T$ is the target vector, $\\theta = [\\theta_0, \\theta_1, \\dots, \\theta_n]^T$ is the parameter vector, $X = \\begin{bmatrix} 1 & x_{11} & \\dots &  x_{1p} \\\\ \\vdots & \\vdots & \\ddots & \\vdots \\\\ 1 & x_{n1} & \\dots &  x_{np} \\end{bmatrix}$ is the feature matrix, and $\\eta = [\\eta_0, \\eta_1, \\dots, \\eta_n]^T$ is the disturbance vector.\n",
    "\n",
    "A predictor for $y_i$ is given by\n",
    "\n",
    "$\\hat y_i = \\hat\\theta_0 + \\hat\\theta_1 x_{i1} + \\dots +  \\hat\\theta_p x_{ip}$\n",
    "\n",
    "and rewritten using matrix notation as\n",
    "\n",
    "$\\hat y = X\\hat\\theta = f(X,\\hat\\theta)$, (2) \n",
    "\n",
    "where $f(X,\\hat\\theta)$ is the also know as hypothesis function.\n",
    "\n",
    "The idea is to find an estimate for $\\hat\\theta$ in order to make the predicted target vector $\\hat y$ as close as possible to the measured target vector $y$ (prediction error in system identification).\n",
    "A common metric to be used in this case is the $l_2$ (least-squares) norm.\n",
    "In this case, the optimization problem is formulated as\n",
    "\n",
    "$E_2(\\hat y) = \\left( \\frac{1}{N} \\sum_{k=1}^N \\lvert \\hat y_k - y_k \\rvert^2 \\right)^{1/2}$,\n",
    "\n",
    "which can be rewritten replacing (2) int it, arriving to\n",
    "\n",
    "$$\n",
    "\\begin{align}\n",
    "    E_2(f(X,\\hat\\theta)) &= \\left( \\frac{1}{N} \\sum_{k=1}^N \\lvert f(X_k,\\hat\\theta) - y_k \\rvert^2 \\right)^{1/2} \\\\\n",
    "    E_2(\\hat\\theta) &= \\left( \\frac{1}{N} \\sum_{k=1}^N \\lvert X_k\\hat\\theta - y_k \\rvert^2 \\right)^{1/2}\n",
    "\\end{align}\n",
    "$$\n",
    "\n",
    "There is a closed-form solution that minimizes that cost function, it is called the normal equation and is given by\n",
    "\n",
    "$\\hat\\theta = \\left(X^T X\\right)^{-1} X^T y$.\n",
    "\n",
    "Below follows a simple example to estimate the parameters vector $\\hat\\theta$ using the normal equation (using the numpy library) and using the scikit-learn library (which uses the pseudo-inverse to compute the parameters vector)."
   ]
  },
  {
   "cell_type": "code",
   "execution_count": 4,
   "metadata": {},
   "outputs": [
    {
     "name": "stdout",
     "output_type": "stream",
     "text": [
      "Ideal parameters:\t[4.0, 3.0]\n",
      "Estimated parameters using the normal equation:\t[4.586, 2.9216]\n",
      "Estimated parameters using scikit-learn:\t[4.586, 2.9216]\n"
     ]
    },
    {
     "data": {
      "image/png": "[encoded data removed]",
      "text/plain": [
       "<Figure size 432x288 with 1 Axes>"
      ]
     },
     "metadata": {
      "needs_background": "light"
     },
     "output_type": "display_data"
    }
   ],
   "source": [
    "%matplotlib inline\n",
    "import sys\n",
    "from pathlib import Path\n",
    "module_path = str(Path.cwd().parents[0])\n",
    "if module_path not in sys.path:\n",
    "    sys.path.append(module_path)\n",
    "import numpy as np\n",
    "import matplotlib.pyplot as plt\n",
    "from main.supervised_learning.linear_regression import linear_regression\n",
    "\n",
    "lin_reg = linear_regression.LinearRegression()\n",
    "\n",
    "# Generating the data\n",
    "N = 100                             # Number of samples\n",
    "np.random.seed(12345)               # Seed to simulate always the same data\n",
    "x = 2*np.random.rand(N,1)           # Input\n",
    "eta = np.random.rand(N,1)           # Noise\n",
    "y = 4 + 3*x + eta                   # Output affected by noise\n",
    "theta_0 = np.array([[4.0], [3.0]])  # Desired parameters\n",
    "\n",
    "# Estimated parameters using the normal equation\n",
    "theta = lin_reg.normal_equation(x, y)\n",
    "theta_scikit = lin_reg.linear_regression(x, y)\n",
    "\n",
    "# Generating the predicted output\n",
    "_x = np.array([[0], [2]])       # x axis varies from 0 to 2\n",
    "X = np.c_[np.ones((2,1)), _x]        # X's first column equals 1\n",
    "y_pred = X.dot(theta)\n",
    "y_pred_scikit = X.dot(theta_scikit)\n",
    "\n",
    "print(f\"Ideal parameters:\\t{theta_0.squeeze().tolist()}\")\n",
    "print(f\"Estimated parameters using the normal equation:\\t{theta.round(4).squeeze().tolist()}\")\n",
    "print(f\"Estimated parameters using scikit-learn:\\t{theta_scikit.round(4).squeeze().tolist()}\")\n",
    "\n",
    "# Ploting the data and the model's prediction\n",
    "plt.plot(_x, y_pred, '-r', label='predicted -- normal equation')\n",
    "plt.plot(x, y, 'b.', label='data')\n",
    "plt.plot(_x, y_pred_scikit, '-g', label='predicted -- scikit')\n",
    "plt.xlabel('$x$')\n",
    "plt.ylabel('$y$')\n",
    "plt.axis([0,2,4,12])\n",
    "plt.grid(True)\n",
    "plt.legend(loc='upper left')\n",
    "plt.title(\"Dataset and the model's prediction -- normal equation and pseudo-inverse\")\n",
    "plt.show()\n",
    "\n"
   ]
  }
 ],
 "metadata": {
  "kernelspec": {
   "display_name": "Python 3",
   "language": "python",
   "name": "python3"
  },
  "language_info": {
   "codemirror_mode": {
    "name": "ipython",
    "version": 3
   },
   "file_extension": ".py",
   "mimetype": "text/x-python",
   "name": "python",
   "nbconvert_exporter": "python",
   "pygments_lexer": "ipython3",
   "version": "3.8.10"
  },
  "orig_nbformat": 4,
  "vscode": {
   "interpreter": {
    "hash": "916dbcbb3f70747c44a77c7bcd40155683ae19c65e1c03b4aa3499c5328201f1"
   }
  }
 },
 "nbformat": 4,
 "nbformat_minor": 2
}
