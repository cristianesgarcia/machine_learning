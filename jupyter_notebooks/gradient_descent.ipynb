{
 "cells": [
  {
   "cell_type": "markdown",
   "id": "11e7e4c4",
   "metadata": {},
   "source": [
    "# Nonlinear and gradient decent\n",
    "\n",
    "Dealing with the task of fitting a nonlinear equation to a dataset leads to a system of nonlinear equations.\n",
    "This way, the well-known closed form least-squares solution is not suitable for this case.\n",
    "\n",
    "The general theory of nonlinear regression assumes that the fitting function takes the general form\n",
    "\n",
    "$ f(x) = f(x, \\theta) $\n",
    "\n",
    "where the fitting coefficients $\\theta \\in \\mathbb{R}^p$ are used to minimize the error, and it is also assumed that $ p < N $, where $N$ is the number of samples, and $p$ is the model's number of parameters.\n",
    "The root mean square error is given by\n",
    "$$\n",
    "    E_2(\\theta) = \\sum_{k=1}^N \\left( f(x_k, \\theta) - y_k \\right)^2.\n",
    "$$\n",
    "\n",
    "The root mean square error can be minimized by applying the partial derivative of $E_2(\\theta)$ with respect to each parameter $\\theta_i$, that is,\n",
    "$$\n",
    "    \\frac{\\partial E_2(\\theta)}{\\partial\\theta_i} = 0 \\quad \\text{with}\\quad i = 0, 1, \\dots, p.\n",
    "$$\n",
    "\n",
    "In general, this leads to a set of nonlinear equations, as follows\n",
    "$$\n",
    "    \\sum_{k=1}^N \\left( f(x_k, \\theta) - y_k \\right) \\frac{\\partial f }{\\partial\\theta_i} = 0 \\quad \\text{with}\\quad i = 0, 1, \\dots, p.\n",
    "$$\n",
    "\n",
    "There are no general methods available for solving such nonlinear systems.\n",
    "In fact, nonlinear systems may have no solution, may have several solutions, or may have infinite solutions.\n",
    "In general, iterative schemes are used to solve nonlinear systems, which require a good initial guess to converge to the global minimum error.\n",
    "\n",
    "## Gradient descent\n",
    "\n",
    "Gradient descent, or steepest descent, is a generic optimization algorithm to find optimal solutions to a wide range of problems.\n",
    "The idea is to tweak parameters iteratively in order to minimize a cost function.\n",
    "\n",
    "The gradient must be zero at an extremum, for high-dimensional systems, so,\n",
    "$$\n",
    "    \\nabla f(x) = 0.\n",
    "$$\n",
    "\n",
    "The idea is to use the derivative information to as the basis of an iterative algorithm that progressively converges to\n",
    "a local minimum point of $f(x)$.\n",
    "The algorithm consists of obtaining the next point of the iteration by following the steepest descent, that is,\n",
    "$$\n",
    "    x_{x+1} = x_k - \\gamma \\nabla f(x_k), \\quad k \\geq 0,\n",
    "$$\n",
    "where $\\gamma$ is the step size dictating how far to move along the gradient descent curve.\n",
    "The term $\\gamma \\nabla f(x_k)$ is subtracted from $x_k$ in order to move against the gradient, this way, moving toward the local minimum.\n",
    "\n",
    "It is worth to mention that the choice of the initial guess, $x_0$, and the step size $\\gamma$ are crucial in order to achieve the cost function's global minimum.\n",
    "The step size $\\gamma$ may be kept constant or updated at each iteration, for example.\n",
    "While the initial guess may be suggested by the user or one may use a grid search to find a good candidate, for example."
   ]
  },
  {
   "cell_type": "markdown",
   "id": "9b7c54c9",
   "metadata": {},
   "source": [
    "#### Example using the mean square error cost function\n",
    "\n",
    "In order to implement the gradient descent we need to compute the gradient of the cost function with regards to each model parameter.\n",
    "The $\\text{MSE}(\\theta)$ cost function is given by\n",
    "$$\n",
    "    \\text{MSE}(\\theta) = \\frac{1}{N} \\sum_{i=1}^N \\left( \\theta^T x^{(i)} - y^{(i)} \\right),\n",
    "$$\n",
    "where $x^{(i)}$ is the $i$-th column of the output matrix $X$, $y^{(i)}$ is the $i$-th sample of the target vector, and $N$ is the number of samples.\n",
    "\n",
    "The partial derivative of the above cost function is given by\n",
    "$$\n",
    "    \\frac{\\partial}{\\partial \\theta_j} \\text{MSE}(\\theta) = \\frac{2}{N} \\sum_{i=1}^N \\left( \\theta^T x^{(i)} - y^{(i)} \\right)x^{(i)}_j.\n",
    "$$\n",
    "\n",
    "Instead of computing each partial derivative individually, we compute them all at once, which gives the following gradient vector\n",
    "$$\n",
    "    \\nabla \\text{MSE}(\\theta) =\n",
    "    \\begin{bmatrix}\n",
    "        \\frac{\\partial}{\\partial \\theta_0} \\text{MSE}(\\theta) \\\\\n",
    "        \\frac{\\partial}{\\partial \\theta_1} \\text{MSE}(\\theta) \\\\\n",
    "        \\vdots \\\\\n",
    "        \\frac{\\partial}{\\partial \\theta_p} \\text{MSE}(\\theta)\n",
    "    \\end{bmatrix}\n",
    "    = \\frac{2}{N} X^T \\left( X\\theta - y \\right)\n",
    "$$\n",
    "\n",
    "Now, we can compute the gradient descent step as\n",
    "$$\n",
    "    \\hat\\theta_{k+1} = \\hat\\theta_k - \\gamma\\nabla\\text{MSE}(\\hat\\theta_k),\n",
    "$$\n",
    "where $\\gamma$ is the step size of the decrement, also known as the learning rate.\n",
    "\n",
    "The following example shows an implementation of this algorithm using Python."
   ]
  },
  {
   "cell_type": "code",
   "execution_count": 1,
   "id": "04f90155",
   "metadata": {},
   "outputs": [
    {
     "data": {
      "image/png": "[encoded data removed]",
      "text/plain": [
       "<Figure size 432x288 with 1 Axes>"
      ]
     },
     "metadata": {
      "needs_background": "light"
     },
     "output_type": "display_data"
    },
    {
     "name": "stdout",
     "output_type": "stream",
     "text": [
      "Initial guess: [ 0.49671415 -0.1382643 ]\n",
      "Final estimate: [4.483871501545815, 2.977902451275972]\n"
     ]
    }
   ],
   "source": [
    "%matplotlib inline\n",
    "import sys\n",
    "from pathlib import Path\n",
    "module_path = str(Path.cwd().parents[0])\n",
    "if module_path not in sys.path:\n",
    "    sys.path.append(module_path)\n",
    "import numpy as np\n",
    "import matplotlib.pyplot as plt\n",
    "from main.supervised_learning.gradient_descent import gradient_descent\n",
    "import matplotlib.pyplot as plt\n",
    "import matplotlib.colors as mcolors\n",
    "grad_descent = gradient_descent.GradientDescent()\n",
    "\n",
    "# Generating the data\n",
    "N = 100                     # number of data points\n",
    "n_iterations = 1000\n",
    "x = 2*np.random.rand(N,1)\n",
    "eta = np.random.rand(N,1)\n",
    "y = 4 + 3*x + eta\n",
    "Xb = np.c_[np.ones((N,1)), x]\n",
    "\n",
    "# Parameters' estimate\n",
    "theta, theta_ev = grad_descent.gradient_descent(Xb, y,\n",
    "    number_iterations=n_iterations)\n",
    "\n",
    "# Data visualization\n",
    "t = range(n_iterations)\n",
    "plt.plot(t, theta_ev[0,0:n_iterations], 'o',\n",
    "    c=mcolors.TABLEAU_COLORS.get('tab:olive'), label='$\\hat\\\\theta_0$')\n",
    "plt.plot(t, theta_ev[1,0:n_iterations], 'o', \n",
    "    c=mcolors.TABLEAU_COLORS.get('tab:orange'), label='$\\hat\\\\theta_1$')\n",
    "plt.plot(t, np.ones((n_iterations,1)).dot(4), '--',\n",
    "    c=mcolors.TABLEAU_COLORS.get('tab:blue'), label='$\\\\theta_0$')\n",
    "plt.plot(t, np.ones((n_iterations,1)).dot(3), '--',\n",
    "    c='black', label='$\\\\theta_1$')\n",
    "plt.plot(0, theta_ev[0,0], '*',\n",
    "    c=mcolors.TABLEAU_COLORS.get('tab:blue'), label='Guess $\\\\theta_0$')\n",
    "plt.plot(0, theta_ev[1,0], 'k*', label='Guess $\\\\theta_1$')\n",
    "plt.ylim([0,5])\n",
    "plt.xlim([-2, 100])\n",
    "plt.ylabel('Parameter value')\n",
    "plt.xlabel('Iteration')\n",
    "plt.grid(True)\n",
    "plt.legend(loc='lower right')\n",
    "plt.title(\"Evolution of the estimated parameters\")\n",
    "plt.show()\n",
    "\n",
    "print(f\"Initial guess: {theta_ev[0:2,0]}\")\n",
    "print(f\"Final estimate: {theta.reshape(1,2)[0].tolist()}\")\n",
    "\n"
   ]
  }
 ],
 "metadata": {
  "kernelspec": {
   "display_name": "Python 3 (ipykernel)",
   "language": "python",
   "name": "python3"
  },
  "language_info": {
   "codemirror_mode": {
    "name": "ipython",
    "version": 3
   },
   "file_extension": ".py",
   "mimetype": "text/x-python",
   "name": "python",
   "nbconvert_exporter": "python",
   "pygments_lexer": "ipython3",
   "version": "3.8.10"
  },
  "vscode": {
   "interpreter": {
    "hash": "916dbcbb3f70747c44a77c7bcd40155683ae19c65e1c03b4aa3499c5328201f1"
   }
  }
 },
 "nbformat": 4,
 "nbformat_minor": 5
}
